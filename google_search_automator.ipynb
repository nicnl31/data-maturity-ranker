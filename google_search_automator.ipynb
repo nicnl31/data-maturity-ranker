{
 "cells": [
  {
   "cell_type": "code",
   "execution_count": 1,
   "metadata": {
    "id": "IYnxNrCCm_jF"
   },
   "outputs": [],
   "source": [
    "# !pip install google, timeout_decorator\n",
    "\n",
    "import pandas as pd\n",
    "import numpy as np\n",
    "import requests\n",
    "import timeout_decorator \n",
    "\n",
    "from selenium import webdriver\n",
    "from selenium.webdriver.chrome.service import Service\n",
    "from urllib.request import urlopen\n",
    "from bs4 import BeautifulSoup\n",
    "from googlesearch import search\n",
    "from io import BytesIO"
   ]
  },
  {
   "cell_type": "markdown",
   "metadata": {},
   "source": [
    "# Company dataset to work with"
   ]
  },
  {
   "cell_type": "code",
   "execution_count": 2,
   "metadata": {},
   "outputs": [],
   "source": [
    "## Retrieve cleaned company dataset\n",
    "company_data = pd.read_csv('data/asx_listed_cleaned.csv', index_col=0)\n",
    "company_data.head()\n",
    "\n",
    "## Sort data by market cap\n",
    "data = company_data.sort_values(by='Market Cap', ascending=False).reset_index(drop=True)"
   ]
  },
  {
   "cell_type": "code",
   "execution_count": 3,
   "metadata": {},
   "outputs": [
    {
     "data": {
      "text/html": [
       "<div>\n",
       "<style scoped>\n",
       "    .dataframe tbody tr th:only-of-type {\n",
       "        vertical-align: middle;\n",
       "    }\n",
       "\n",
       "    .dataframe tbody tr th {\n",
       "        vertical-align: top;\n",
       "    }\n",
       "\n",
       "    .dataframe thead th {\n",
       "        text-align: right;\n",
       "    }\n",
       "</style>\n",
       "<table border=\"1\" class=\"dataframe\">\n",
       "  <thead>\n",
       "    <tr style=\"text-align: right;\">\n",
       "      <th></th>\n",
       "      <th>Code</th>\n",
       "      <th>Company</th>\n",
       "      <th>Sector</th>\n",
       "      <th>Market Cap</th>\n",
       "    </tr>\n",
       "  </thead>\n",
       "  <tbody>\n",
       "    <tr>\n",
       "      <th>0</th>\n",
       "      <td>csl</td>\n",
       "      <td>csl ltd</td>\n",
       "      <td>health care</td>\n",
       "      <td>140501000000</td>\n",
       "    </tr>\n",
       "    <tr>\n",
       "      <th>1</th>\n",
       "      <td>cba</td>\n",
       "      <td>commonwealth bank of australia</td>\n",
       "      <td>financials</td>\n",
       "      <td>110976000000</td>\n",
       "    </tr>\n",
       "    <tr>\n",
       "      <th>2</th>\n",
       "      <td>bhp</td>\n",
       "      <td>bhp group ltd</td>\n",
       "      <td>materials</td>\n",
       "      <td>95298300000</td>\n",
       "    </tr>\n",
       "    <tr>\n",
       "      <th>3</th>\n",
       "      <td>wbc</td>\n",
       "      <td>westpac banking corporation</td>\n",
       "      <td>financials</td>\n",
       "      <td>58798200000</td>\n",
       "    </tr>\n",
       "    <tr>\n",
       "      <th>4</th>\n",
       "      <td>nab</td>\n",
       "      <td>national australia bank ltd</td>\n",
       "      <td>financials</td>\n",
       "      <td>50611200000</td>\n",
       "    </tr>\n",
       "  </tbody>\n",
       "</table>\n",
       "</div>"
      ],
      "text/plain": [
       "  Code                         Company       Sector    Market Cap\n",
       "0  csl                         csl ltd  health care  140501000000\n",
       "1  cba  commonwealth bank of australia   financials  110976000000\n",
       "2  bhp                   bhp group ltd    materials   95298300000\n",
       "3  wbc     westpac banking corporation   financials   58798200000\n",
       "4  nab     national australia bank ltd   financials   50611200000"
      ]
     },
     "execution_count": 3,
     "metadata": {},
     "output_type": "execute_result"
    }
   ],
   "source": [
    "## Extract the first 20 lines of the dataset\n",
    "data_work = data[:20].copy()\n",
    "\n",
    "data_work.head()"
   ]
  },
  {
   "cell_type": "markdown",
   "metadata": {
    "id": "Vo2L_kl9IJT-"
   },
   "source": [
    "# Automating Google Searches"
   ]
  },
  {
   "cell_type": "code",
   "execution_count": 44,
   "metadata": {},
   "outputs": [],
   "source": [
    "## Library to extract top level domain\n",
    "\n",
    "# !pip3 install tld\n",
    "from tld import get_tld"
   ]
  },
  {
   "cell_type": "code",
   "execution_count": 59,
   "metadata": {},
   "outputs": [],
   "source": [
    "# !pip install PyPDF2\n",
    "import PyPDF2\n",
    "from PyPDF2 import PdfReader"
   ]
  },
  {
   "cell_type": "markdown",
   "metadata": {
    "id": "PWqjataEIJT-"
   },
   "source": [
    "Using the `googlesearch` API to extract search results, then use `BeautifulSoup` to extract data from HTMLs."
   ]
  },
  {
   "cell_type": "code",
   "execution_count": 4,
   "metadata": {},
   "outputs": [],
   "source": [
    "def google_search(company, query):  \n",
    "    # Initialise a search object\n",
    "    res = search(\n",
    "        f'{company} {query}',\n",
    "        tld='com',\n",
    "        lang='en',\n",
    "        num=2,\n",
    "        start=0,\n",
    "        stop=1,\n",
    "        pause=2.0\n",
    "    )\n",
    "    return list(res).pop()"
   ]
  },
  {
   "cell_type": "markdown",
   "metadata": {},
   "source": [
    "# Extract text and PDF from HTMLs"
   ]
  },
  {
   "cell_type": "code",
   "execution_count": 15,
   "metadata": {},
   "outputs": [],
   "source": [
    "@timeout_decorator.timeout(10)\n",
    "def extract_text_from_html(url):\n",
    "    html = urlopen(url).read()\n",
    "    soup = BeautifulSoup(html, features=\"html.parser\")\n",
    "\n",
    "    # Eliminate scripts and style elements in the HTML object\n",
    "    for script in soup([\"script\", \"style\"]):\n",
    "        script.extract()\n",
    "\n",
    "    # Retrieve raw text\n",
    "    text = soup.get_text()\n",
    "\n",
    "    # break into lines and remove leading and trailing space on each\n",
    "    lines = (line.strip() for line in text.splitlines())\n",
    "    \n",
    "    # break multi-headlines into a line each\n",
    "    chunks = (phrase.strip() for line in lines for phrase in line.split(\"  \"))\n",
    "    \n",
    "    # drop blank lines\n",
    "    text_processed = '\\n'.join(chunk for chunk in chunks if chunk)\n",
    "    \n",
    "    return text_processed"
   ]
  },
  {
   "cell_type": "code",
   "execution_count": 102,
   "metadata": {},
   "outputs": [],
   "source": [
    "@timeout_decorator.timeout(20)\n",
    "def extract_pdfs_from_html(url):\n",
    "    ## Request contents from the url\n",
    "    html = requests.get(url)\n",
    "    \n",
    "    ## Extract text from the html object\n",
    "    soup = BeautifulSoup(html.text, features=\"html.parser\")\n",
    "    \n",
    "    ## Find all links with href tags\n",
    "    urls_extract_href = soup.find_all('a')\n",
    "    \n",
    "    ## Remove all href tags\n",
    "    urls_extract = list(map(lambda url: url.get('href'), urls_extract_href))\n",
    "    \n",
    "    try:\n",
    "        ## Keep only links with PDF\n",
    "        pdf_urls = [link for link in urls_extract if '.pdf' in link]\n",
    "\n",
    "        ## Fix any links without top-level domain\n",
    "\n",
    "        # Get top level domain as str\n",
    "        tld = get_tld(url, as_object=True).fld\n",
    "        pdf_urls_tld = [f\"https://{tld}{link}\" if not link.startswith('http') else link for link in pdf_urls]\n",
    "\n",
    "        return pdf_urls_tld[0]\n",
    "    \n",
    "    except TypeError:\n",
    "        return 'Extract list empty.'"
   ]
  },
  {
   "cell_type": "code",
   "execution_count": 30,
   "metadata": {},
   "outputs": [],
   "source": [
    "## Test codes\n",
    "\n",
    "# url = 'https://www.commbank.com.au/about-us/investors/annual-reports/annual-report-2022.html'\n",
    "# html = requests.get(url)\n",
    "# soup = BeautifulSoup(html.text, features=\"html.parser\")\n",
    "\n",
    "# tld = get_tld(url, as_object=True) #Get the root as an object\n",
    "# tld.fld #res.fld to extract the domain\n",
    "\n",
    "# urls_extract = soup.find_all('a')\n",
    "# urls_extract_href = list(map(lambda url: url.get('href'), urls_extract))"
   ]
  },
  {
   "cell_type": "markdown",
   "metadata": {},
   "source": [
    "# Parse PDF from HTML"
   ]
  },
  {
   "cell_type": "code",
   "execution_count": 69,
   "metadata": {
    "scrolled": true
   },
   "outputs": [],
   "source": [
    "## Test code\n",
    "\n",
    "# report = requests.get('https://www.commbank.com.au/content/dam/commbank-assets/about-us/2022-08/2022-annual-report_spreads.pdf')\n",
    "# raw_data = report.content\n",
    "\n",
    "# with BytesIO(raw_data) as data:\n",
    "#     file_object = PyPDF2.PdfReader(data)\n",
    "\n",
    "#     corpus = []\n",
    "#     for page in range(len(file_object.pages)):\n",
    "#         text = file_object.pages[page].extract_text()\n",
    "#         corpus.append(text)"
   ]
  },
  {
   "cell_type": "code",
   "execution_count": 71,
   "metadata": {
    "id": "R9s1iw4dIJUA"
   },
   "outputs": [],
   "source": [
    "def get_corpus_from_pdf(url):\n",
    "    \"\"\"\n",
    "    Retrieve the corpus from a PDF url.\n",
    "    \n",
    "    ------------\n",
    "    Input(s):\n",
    "    url: the URL to the PDF file\n",
    "    ----------\n",
    "    Output(s):\n",
    "    The raw string corpus.\n",
    "    \n",
    "    \"\"\"\n",
    "    report = requests.get(url)\n",
    "    raw_data = report.content\n",
    "\n",
    "    with BytesIO(raw_data) as data:\n",
    "        file_object = PyPDF2.PdfReader(data)\n",
    "\n",
    "        corpus = []\n",
    "        for page in range(len(file_object.pages)):\n",
    "            text = file_object.pages[page].extract_text()\n",
    "            corpus.append(text)\n",
    "    \n",
    "    return \" \".join(corpus)"
   ]
  },
  {
   "cell_type": "markdown",
   "metadata": {},
   "source": [
    "# Complete procedure to extract Privacy policies to working data csv"
   ]
  },
  {
   "cell_type": "code",
   "execution_count": 10,
   "metadata": {},
   "outputs": [],
   "source": [
    "# Extract URLs for privacy policy for companies\n",
    "urls = [\n",
    "    google_search(data_work['Company'].loc[i], 'privacy policy') for i in range(len(data_work['Company']))\n",
    "]"
   ]
  },
  {
   "cell_type": "code",
   "execution_count": 16,
   "metadata": {
    "scrolled": true
   },
   "outputs": [
    {
     "name": "stdout",
     "output_type": "stream",
     "text": [
      "Iteration 1\n",
      "Iteration 2\n",
      "Iteration 3\n",
      "Iteration 4\n",
      "Iteration 5\n",
      "Iteration 6\n",
      "Iteration 7\n",
      "Iteration 8\n",
      "Iteration 9\n",
      "Iteration 10\n",
      "Iteration 11\n",
      "Iteration 12\n",
      "Iteration 13\n",
      "Iteration 14\n",
      "Iteration 15\n",
      "Iteration 16\n",
      "Iteration 17\n",
      "Iteration 18\n",
      "Iteration 19\n",
      "Iteration 20\n"
     ]
    }
   ],
   "source": [
    "## Scrape privacy policies and pass them into Pandas dataframe\n",
    "\n",
    "privacy_policy_text = []\n",
    "\n",
    "# Loop through URLs and scrape text from each of them\n",
    "for i in range(len(urls)):\n",
    "    print(f\"Iteration {i+1}\")\n",
    "    try:\n",
    "        text = extract_text_from_html(urls[i])\n",
    "        privacy_policy_text.append(text)\n",
    "    except:\n",
    "        privacy_policy_text.append(np.nan)\n",
    "        pass\n",
    "\n",
    "# Attach to current working data\n",
    "data_work['privacy_policy'] = privacy_policy_text"
   ]
  },
  {
   "cell_type": "code",
   "execution_count": 18,
   "metadata": {
    "scrolled": true
   },
   "outputs": [
    {
     "data": {
      "text/html": [
       "<div>\n",
       "<style scoped>\n",
       "    .dataframe tbody tr th:only-of-type {\n",
       "        vertical-align: middle;\n",
       "    }\n",
       "\n",
       "    .dataframe tbody tr th {\n",
       "        vertical-align: top;\n",
       "    }\n",
       "\n",
       "    .dataframe thead th {\n",
       "        text-align: right;\n",
       "    }\n",
       "</style>\n",
       "<table border=\"1\" class=\"dataframe\">\n",
       "  <thead>\n",
       "    <tr style=\"text-align: right;\">\n",
       "      <th></th>\n",
       "      <th>Code</th>\n",
       "      <th>Company</th>\n",
       "      <th>Sector</th>\n",
       "      <th>Market Cap</th>\n",
       "      <th>privacy_policy</th>\n",
       "    </tr>\n",
       "  </thead>\n",
       "  <tbody>\n",
       "    <tr>\n",
       "      <th>0</th>\n",
       "      <td>csl</td>\n",
       "      <td>csl ltd</td>\n",
       "      <td>health care</td>\n",
       "      <td>140501000000</td>\n",
       "      <td>Privacy Policy | CSL Limited\\nSkip to main con...</td>\n",
       "    </tr>\n",
       "    <tr>\n",
       "      <th>1</th>\n",
       "      <td>cba</td>\n",
       "      <td>commonwealth bank of australia</td>\n",
       "      <td>financials</td>\n",
       "      <td>110976000000</td>\n",
       "      <td>Group Privacy Statement - CommBank\\nSkip to ma...</td>\n",
       "    </tr>\n",
       "    <tr>\n",
       "      <th>2</th>\n",
       "      <td>bhp</td>\n",
       "      <td>bhp group ltd</td>\n",
       "      <td>materials</td>\n",
       "      <td>95298300000</td>\n",
       "      <td>NaN</td>\n",
       "    </tr>\n",
       "    <tr>\n",
       "      <th>3</th>\n",
       "      <td>wbc</td>\n",
       "      <td>westpac banking corporation</td>\n",
       "      <td>financials</td>\n",
       "      <td>58798200000</td>\n",
       "      <td>Privacy Statement | Westpac\\nclose\\nWe use coo...</td>\n",
       "    </tr>\n",
       "    <tr>\n",
       "      <th>4</th>\n",
       "      <td>nab</td>\n",
       "      <td>national australia bank ltd</td>\n",
       "      <td>financials</td>\n",
       "      <td>50611200000</td>\n",
       "      <td>National Australia Bank privacy policy - NAB\\n...</td>\n",
       "    </tr>\n",
       "  </tbody>\n",
       "</table>\n",
       "</div>"
      ],
      "text/plain": [
       "  Code                         Company       Sector    Market Cap  \\\n",
       "0  csl                         csl ltd  health care  140501000000   \n",
       "1  cba  commonwealth bank of australia   financials  110976000000   \n",
       "2  bhp                   bhp group ltd    materials   95298300000   \n",
       "3  wbc     westpac banking corporation   financials   58798200000   \n",
       "4  nab     national australia bank ltd   financials   50611200000   \n",
       "\n",
       "                                      privacy_policy  \n",
       "0  Privacy Policy | CSL Limited\\nSkip to main con...  \n",
       "1  Group Privacy Statement - CommBank\\nSkip to ma...  \n",
       "2                                                NaN  \n",
       "3  Privacy Statement | Westpac\\nclose\\nWe use coo...  \n",
       "4  National Australia Bank privacy policy - NAB\\n...  "
      ]
     },
     "execution_count": 18,
     "metadata": {},
     "output_type": "execute_result"
    }
   ],
   "source": [
    "data_work.head()"
   ]
  },
  {
   "cell_type": "code",
   "execution_count": 19,
   "metadata": {},
   "outputs": [
    {
     "data": {
      "text/plain": [
       "Code              0\n",
       "Company           0\n",
       "Sector            0\n",
       "Market Cap        0\n",
       "privacy_policy    5\n",
       "dtype: int64"
      ]
     },
     "execution_count": 19,
     "metadata": {},
     "output_type": "execute_result"
    }
   ],
   "source": [
    "data_work.isna().sum()"
   ]
  },
  {
   "cell_type": "markdown",
   "metadata": {},
   "source": [
    "# Complete procedure to extract raw text from PDF files"
   ]
  },
  {
   "cell_type": "code",
   "execution_count": 72,
   "metadata": {},
   "outputs": [],
   "source": [
    "# Extract URLs for 2022 annual report for companies\n",
    "annual_reports_2022 = [\n",
    "    google_search(data_work['Company'].loc[i], '2022 annual report') for i in range(len(data_work['Company']))\n",
    "]"
   ]
  },
  {
   "cell_type": "code",
   "execution_count": 79,
   "metadata": {
    "scrolled": true
   },
   "outputs": [
    {
     "data": {
      "text/plain": [
       "['https://investors.csl.com/annualreport/2022/',\n",
       " 'https://www.commbank.com.au/about-us/investors/annual-reports/annual-report-2022.html',\n",
       " 'https://www.bhp.com/investors/annual-reporting/annual-report-2022',\n",
       " 'https://www.westpac.com.au/about-westpac/investor-centre/financial-information/annual-reports/',\n",
       " 'https://www.nab.com.au/content/dam/nab/documents/reports/corporate/2022-annual-report.pdf',\n",
       " 'https://www.anz.com/shareholder/centre/reporting/annual-report-annual-review/',\n",
       " 'https://www.woolworthsgroup.com.au/content/dam/wwg/investors/reports/2022/full-year/2022%20Annual%20Report.pdf',\n",
       " 'https://sitefinity.wesfarmers.com.au/docs/default-source/2022-full-year-results/wesfarmers-annual-report-2022_interactive_v2.pdf?sfvrsn=6e2f1abb_2',\n",
       " 'https://www.transurban.com/investor-centre/reporting-suite',\n",
       " 'https://www.fmgl.com.au/docs/default-source/announcements/full-year-2022-annual-report-and-4e.pdf?sfvrsn=d0a3336a_2',\n",
       " 'https://www.macquarie.com/au/en/investors/reports/full-year-2022.html',\n",
       " 'https://www.telstra.com.au/content/dam/tcom/about-us/investors/pdf-g/TEL-AR-2022-Spreads-FINAL.pdf',\n",
       " 'https://www.riotinto.com/en/invest/reports/annual-report',\n",
       " 'https://www.goodman.com/investor-centre/annual-reports',\n",
       " 'https://www.woodside.com/investors/reports-investor-briefings',\n",
       " 'https://www.newcrest.com/2022-annual-report/overview',\n",
       " 'https://www.colesgroup.com.au/annual-report',\n",
       " 'https://brambles.com/annual-reports',\n",
       " 'https://ir.aristocrat.com/annual-reports',\n",
       " 'https://www2.asx.com.au/content/dam/asx/about/media-releases/2022/41-22-august-asx-2022-annual-report.pdf']"
      ]
     },
     "execution_count": 79,
     "metadata": {},
     "output_type": "execute_result"
    }
   ],
   "source": [
    "annual_reports_2022"
   ]
  },
  {
   "cell_type": "code",
   "execution_count": 103,
   "metadata": {
    "scrolled": true
   },
   "outputs": [],
   "source": [
    "annual_reports_2022_pdfs = []\n",
    "for link in annual_reports_2022:\n",
    "    try:\n",
    "        if not '.pdf' in link:\n",
    "            annual_reports_2022_pdfs.append(extract_pdfs_from_html(link))\n",
    "        else:\n",
    "            annual_reports_2022_pdfs.append(link)\n",
    "    except:\n",
    "        annual_reports_2022_pdfs.append('Cannot get pdf.')\n",
    "        pass"
   ]
  },
  {
   "cell_type": "code",
   "execution_count": 104,
   "metadata": {},
   "outputs": [
    {
     "data": {
      "text/plain": [
       "['Cannot get pdf.',\n",
       " 'Extract list empty.',\n",
       " 'Cannot get pdf.',\n",
       " 'Extract list empty.',\n",
       " 'https://www.nab.com.au/content/dam/nab/documents/reports/corporate/2022-annual-report.pdf',\n",
       " 'Extract list empty.',\n",
       " 'https://www.woolworthsgroup.com.au/content/dam/wwg/investors/reports/2022/full-year/2022%20Annual%20Report.pdf',\n",
       " 'https://sitefinity.wesfarmers.com.au/docs/default-source/2022-full-year-results/wesfarmers-annual-report-2022_interactive_v2.pdf?sfvrsn=6e2f1abb_2',\n",
       " 'Extract list empty.',\n",
       " 'https://www.fmgl.com.au/docs/default-source/announcements/full-year-2022-annual-report-and-4e.pdf?sfvrsn=d0a3336a_2',\n",
       " 'Extract list empty.',\n",
       " 'https://www.telstra.com.au/content/dam/tcom/about-us/investors/pdf-g/TEL-AR-2022-Spreads-FINAL.pdf',\n",
       " 'Cannot get pdf.',\n",
       " 'Cannot get pdf.',\n",
       " 'Cannot get pdf.',\n",
       " 'Extract list empty.',\n",
       " 'Cannot get pdf.',\n",
       " 'Extract list empty.',\n",
       " 'Extract list empty.',\n",
       " 'https://www2.asx.com.au/content/dam/asx/about/media-releases/2022/41-22-august-asx-2022-annual-report.pdf']"
      ]
     },
     "execution_count": 104,
     "metadata": {},
     "output_type": "execute_result"
    }
   ],
   "source": [
    "annual_reports_2022_pdfs"
   ]
  },
  {
   "cell_type": "code",
   "execution_count": 105,
   "metadata": {
    "scrolled": true
   },
   "outputs": [
    {
     "name": "stdout",
     "output_type": "stream",
     "text": [
      "Iteration 1\n",
      "Iteration 2\n",
      "Iteration 3\n",
      "Iteration 4\n",
      "Iteration 5\n",
      "Iteration 6\n",
      "Iteration 7\n",
      "Iteration 8\n",
      "Iteration 9\n",
      "Iteration 10\n",
      "Iteration 11\n",
      "Iteration 12\n",
      "Iteration 13\n",
      "Iteration 14\n",
      "Iteration 15\n",
      "Iteration 16\n",
      "Iteration 17\n",
      "Iteration 18\n",
      "Iteration 19\n",
      "Iteration 20\n"
     ]
    }
   ],
   "source": [
    "## Scrape annual reports and pass them into Pandas dataframe\n",
    "\n",
    "annual_report_text = []\n",
    "\n",
    "# Loop through URLs and scrape text from each of them\n",
    "for i in range(len(annual_reports_2022)):\n",
    "    print(f\"Iteration {i+1}\")\n",
    "    try:\n",
    "        url = extract_pdfs_from_html(annual_reports_2022_pdfs[i])\n",
    "        annual_report_text.append(get_corpus_from_pdf(url))\n",
    "    except:\n",
    "        annual_report_text.append(np.nan)\n",
    "        pass\n",
    "\n",
    "# Attach to current working data\n",
    "data_work['ann_report_2022'] = annual_report_text"
   ]
  },
  {
   "cell_type": "code",
   "execution_count": null,
   "metadata": {},
   "outputs": [],
   "source": []
  },
  {
   "cell_type": "code",
   "execution_count": null,
   "metadata": {},
   "outputs": [],
   "source": []
  }
 ],
 "metadata": {
  "colab": {
   "collapsed_sections": [
    "Y7Bhv4Xct1AF",
    "LZjF4EkksEl-",
    "rz209ETCIJT_",
    "1T4X9IYzqQxS",
    "klXh9NI7XFTh",
    "2RPL7cw4SWMi",
    "1SWzvuXEVjqk",
    "YDCqVfDmlOgh"
   ],
   "provenance": []
  },
  "kernelspec": {
   "display_name": "Python 3 (ipykernel)",
   "language": "python",
   "name": "python3"
  },
  "language_info": {
   "codemirror_mode": {
    "name": "ipython",
    "version": 3
   },
   "file_extension": ".py",
   "mimetype": "text/x-python",
   "name": "python",
   "nbconvert_exporter": "python",
   "pygments_lexer": "ipython3",
   "version": "3.8.2"
  }
 },
 "nbformat": 4,
 "nbformat_minor": 1
}
